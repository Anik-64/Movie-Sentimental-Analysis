{
 "cells": [
  {
   "cell_type": "code",
   "execution_count": 1,
   "id": "ed268ef3",
   "metadata": {
    "_cell_guid": "b1076dfc-b9ad-4769-8c92-a6c4dae69d19",
    "_uuid": "8f2839f25d086af736a60e9eeb907d3b93b6e0e5",
    "execution": {
     "iopub.execute_input": "2022-11-09T16:22:24.982575Z",
     "iopub.status.busy": "2022-11-09T16:22:24.982036Z",
     "iopub.status.idle": "2022-11-09T16:22:25.000786Z",
     "shell.execute_reply": "2022-11-09T16:22:24.999138Z"
    },
    "papermill": {
     "duration": 0.035238,
     "end_time": "2022-11-09T16:22:25.004879",
     "exception": false,
     "start_time": "2022-11-09T16:22:24.969641",
     "status": "completed"
    },
    "tags": []
   },
   "outputs": [
    {
     "name": "stdout",
     "output_type": "stream",
     "text": [
      "/kaggle/input/imdb-dataset-of-50k-movie-reviews/IMDB Dataset.csv\n"
     ]
    }
   ],
   "source": [
    "# This Python 3 environment comes with many helpful analytics libraries installed\n",
    "# It is defined by the kaggle/python Docker image: https://github.com/kaggle/docker-python\n",
    "# For example, here's several helpful packages to load\n",
    "\n",
    "import numpy as np # linear algebra\n",
    "import pandas as pd # data processing, CSV file I/O (e.g. pd.read_csv)\n",
    "\n",
    "# Input data files are available in the read-only \"../input/\" directory\n",
    "# For example, running this (by clicking run or pressing Shift+Enter) will list all files under the input directory\n",
    "\n",
    "import os\n",
    "for dirname, _, filenames in os.walk('/kaggle/input'):\n",
    "    for filename in filenames:\n",
    "        print(os.path.join(dirname, filename))\n",
    "\n",
    "# You can write up to 20GB to the current directory (/kaggle/working/) that gets preserved as output when you create a version using \"Save & Run All\" \n",
    "# You can also write temporary files to /kaggle/temp/, but they won't be saved outside of the current session"
   ]
  },
  {
   "cell_type": "code",
   "execution_count": 2,
   "id": "7a0ade73",
   "metadata": {
    "execution": {
     "iopub.execute_input": "2022-11-09T16:22:25.028157Z",
     "iopub.status.busy": "2022-11-09T16:22:25.027654Z",
     "iopub.status.idle": "2022-11-09T16:22:26.675247Z",
     "shell.execute_reply": "2022-11-09T16:22:26.673881Z"
    },
    "papermill": {
     "duration": 1.661851,
     "end_time": "2022-11-09T16:22:26.677833",
     "exception": false,
     "start_time": "2022-11-09T16:22:25.015982",
     "status": "completed"
    },
    "tags": []
   },
   "outputs": [],
   "source": [
    "df = pd.read_csv('../input/imdb-dataset-of-50k-movie-reviews/IMDB Dataset.csv')"
   ]
  },
  {
   "cell_type": "code",
   "execution_count": 3,
   "id": "7db411f7",
   "metadata": {
    "execution": {
     "iopub.execute_input": "2022-11-09T16:22:26.700489Z",
     "iopub.status.busy": "2022-11-09T16:22:26.700046Z",
     "iopub.status.idle": "2022-11-09T16:22:26.725421Z",
     "shell.execute_reply": "2022-11-09T16:22:26.724268Z"
    },
    "papermill": {
     "duration": 0.038527,
     "end_time": "2022-11-09T16:22:26.728051",
     "exception": false,
     "start_time": "2022-11-09T16:22:26.689524",
     "status": "completed"
    },
    "tags": []
   },
   "outputs": [
    {
     "data": {
      "text/html": [
       "<div>\n",
       "<style scoped>\n",
       "    .dataframe tbody tr th:only-of-type {\n",
       "        vertical-align: middle;\n",
       "    }\n",
       "\n",
       "    .dataframe tbody tr th {\n",
       "        vertical-align: top;\n",
       "    }\n",
       "\n",
       "    .dataframe thead th {\n",
       "        text-align: right;\n",
       "    }\n",
       "</style>\n",
       "<table border=\"1\" class=\"dataframe\">\n",
       "  <thead>\n",
       "    <tr style=\"text-align: right;\">\n",
       "      <th></th>\n",
       "      <th>review</th>\n",
       "      <th>sentiment</th>\n",
       "    </tr>\n",
       "  </thead>\n",
       "  <tbody>\n",
       "    <tr>\n",
       "      <th>0</th>\n",
       "      <td>One of the other reviewers has mentioned that ...</td>\n",
       "      <td>positive</td>\n",
       "    </tr>\n",
       "    <tr>\n",
       "      <th>1</th>\n",
       "      <td>A wonderful little production. &lt;br /&gt;&lt;br /&gt;The...</td>\n",
       "      <td>positive</td>\n",
       "    </tr>\n",
       "    <tr>\n",
       "      <th>2</th>\n",
       "      <td>I thought this was a wonderful way to spend ti...</td>\n",
       "      <td>positive</td>\n",
       "    </tr>\n",
       "    <tr>\n",
       "      <th>3</th>\n",
       "      <td>Basically there's a family where a little boy ...</td>\n",
       "      <td>negative</td>\n",
       "    </tr>\n",
       "    <tr>\n",
       "      <th>4</th>\n",
       "      <td>Petter Mattei's \"Love in the Time of Money\" is...</td>\n",
       "      <td>positive</td>\n",
       "    </tr>\n",
       "  </tbody>\n",
       "</table>\n",
       "</div>"
      ],
      "text/plain": [
       "                                              review sentiment\n",
       "0  One of the other reviewers has mentioned that ...  positive\n",
       "1  A wonderful little production. <br /><br />The...  positive\n",
       "2  I thought this was a wonderful way to spend ti...  positive\n",
       "3  Basically there's a family where a little boy ...  negative\n",
       "4  Petter Mattei's \"Love in the Time of Money\" is...  positive"
      ]
     },
     "execution_count": 3,
     "metadata": {},
     "output_type": "execute_result"
    }
   ],
   "source": [
    "df.head()"
   ]
  },
  {
   "cell_type": "code",
   "execution_count": 4,
   "id": "69dd3c04",
   "metadata": {
    "execution": {
     "iopub.execute_input": "2022-11-09T16:22:26.750083Z",
     "iopub.status.busy": "2022-11-09T16:22:26.748753Z",
     "iopub.status.idle": "2022-11-09T16:22:26.787347Z",
     "shell.execute_reply": "2022-11-09T16:22:26.786154Z"
    },
    "papermill": {
     "duration": 0.051888,
     "end_time": "2022-11-09T16:22:26.789757",
     "exception": false,
     "start_time": "2022-11-09T16:22:26.737869",
     "status": "completed"
    },
    "tags": []
   },
   "outputs": [
    {
     "name": "stdout",
     "output_type": "stream",
     "text": [
      "<class 'pandas.core.frame.DataFrame'>\n",
      "RangeIndex: 50000 entries, 0 to 49999\n",
      "Data columns (total 2 columns):\n",
      " #   Column     Non-Null Count  Dtype \n",
      "---  ------     --------------  ----- \n",
      " 0   review     50000 non-null  object\n",
      " 1   sentiment  50000 non-null  object\n",
      "dtypes: object(2)\n",
      "memory usage: 781.4+ KB\n"
     ]
    }
   ],
   "source": [
    "df.info()"
   ]
  },
  {
   "cell_type": "code",
   "execution_count": 5,
   "id": "fd567a36",
   "metadata": {
    "execution": {
     "iopub.execute_input": "2022-11-09T16:22:26.814062Z",
     "iopub.status.busy": "2022-11-09T16:22:26.813634Z",
     "iopub.status.idle": "2022-11-09T16:22:26.822727Z",
     "shell.execute_reply": "2022-11-09T16:22:26.821098Z"
    },
    "papermill": {
     "duration": 0.022926,
     "end_time": "2022-11-09T16:22:26.825305",
     "exception": false,
     "start_time": "2022-11-09T16:22:26.802379",
     "status": "completed"
    },
    "tags": []
   },
   "outputs": [],
   "source": [
    "df = df.sample(10000)"
   ]
  },
  {
   "cell_type": "code",
   "execution_count": 6,
   "id": "0880f2d3",
   "metadata": {
    "execution": {
     "iopub.execute_input": "2022-11-09T16:22:26.847911Z",
     "iopub.status.busy": "2022-11-09T16:22:26.846673Z",
     "iopub.status.idle": "2022-11-09T16:22:26.855130Z",
     "shell.execute_reply": "2022-11-09T16:22:26.853910Z"
    },
    "papermill": {
     "duration": 0.022248,
     "end_time": "2022-11-09T16:22:26.857356",
     "exception": false,
     "start_time": "2022-11-09T16:22:26.835108",
     "status": "completed"
    },
    "tags": []
   },
   "outputs": [
    {
     "data": {
      "text/plain": [
       "(10000, 2)"
      ]
     },
     "execution_count": 6,
     "metadata": {},
     "output_type": "execute_result"
    }
   ],
   "source": [
    "df.shape"
   ]
  },
  {
   "cell_type": "code",
   "execution_count": 7,
   "id": "0ead7313",
   "metadata": {
    "execution": {
     "iopub.execute_input": "2022-11-09T16:22:26.879191Z",
     "iopub.status.busy": "2022-11-09T16:22:26.878772Z",
     "iopub.status.idle": "2022-11-09T16:22:26.891648Z",
     "shell.execute_reply": "2022-11-09T16:22:26.890713Z"
    },
    "papermill": {
     "duration": 0.02726,
     "end_time": "2022-11-09T16:22:26.894616",
     "exception": false,
     "start_time": "2022-11-09T16:22:26.867356",
     "status": "completed"
    },
    "tags": []
   },
   "outputs": [
    {
     "name": "stdout",
     "output_type": "stream",
     "text": [
      "<class 'pandas.core.frame.DataFrame'>\n",
      "Int64Index: 10000 entries, 48087 to 22225\n",
      "Data columns (total 2 columns):\n",
      " #   Column     Non-Null Count  Dtype \n",
      "---  ------     --------------  ----- \n",
      " 0   review     10000 non-null  object\n",
      " 1   sentiment  10000 non-null  object\n",
      "dtypes: object(2)\n",
      "memory usage: 234.4+ KB\n"
     ]
    }
   ],
   "source": [
    "df.info()"
   ]
  },
  {
   "cell_type": "code",
   "execution_count": 8,
   "id": "a1f50d18",
   "metadata": {
    "execution": {
     "iopub.execute_input": "2022-11-09T16:22:26.921179Z",
     "iopub.status.busy": "2022-11-09T16:22:26.920519Z",
     "iopub.status.idle": "2022-11-09T16:22:26.933921Z",
     "shell.execute_reply": "2022-11-09T16:22:26.932796Z"
    },
    "papermill": {
     "duration": 0.029395,
     "end_time": "2022-11-09T16:22:26.936451",
     "exception": false,
     "start_time": "2022-11-09T16:22:26.907056",
     "status": "completed"
    },
    "tags": []
   },
   "outputs": [],
   "source": [
    "df['sentiment'].replace({'positive':1,'negative':0},inplace=True)"
   ]
  },
  {
   "cell_type": "code",
   "execution_count": 9,
   "id": "03750a73",
   "metadata": {
    "execution": {
     "iopub.execute_input": "2022-11-09T16:22:26.964589Z",
     "iopub.status.busy": "2022-11-09T16:22:26.963734Z",
     "iopub.status.idle": "2022-11-09T16:22:26.973726Z",
     "shell.execute_reply": "2022-11-09T16:22:26.972834Z"
    },
    "papermill": {
     "duration": 0.028107,
     "end_time": "2022-11-09T16:22:26.976020",
     "exception": false,
     "start_time": "2022-11-09T16:22:26.947913",
     "status": "completed"
    },
    "tags": []
   },
   "outputs": [
    {
     "data": {
      "text/html": [
       "<div>\n",
       "<style scoped>\n",
       "    .dataframe tbody tr th:only-of-type {\n",
       "        vertical-align: middle;\n",
       "    }\n",
       "\n",
       "    .dataframe tbody tr th {\n",
       "        vertical-align: top;\n",
       "    }\n",
       "\n",
       "    .dataframe thead th {\n",
       "        text-align: right;\n",
       "    }\n",
       "</style>\n",
       "<table border=\"1\" class=\"dataframe\">\n",
       "  <thead>\n",
       "    <tr style=\"text-align: right;\">\n",
       "      <th></th>\n",
       "      <th>review</th>\n",
       "      <th>sentiment</th>\n",
       "    </tr>\n",
       "  </thead>\n",
       "  <tbody>\n",
       "    <tr>\n",
       "      <th>48087</th>\n",
       "      <td>I don't want to write too much about the film ...</td>\n",
       "      <td>1</td>\n",
       "    </tr>\n",
       "    <tr>\n",
       "      <th>13061</th>\n",
       "      <td>A great story, based on a true story about a y...</td>\n",
       "      <td>1</td>\n",
       "    </tr>\n",
       "    <tr>\n",
       "      <th>24234</th>\n",
       "      <td>First of all, what is good in the movie ? Some...</td>\n",
       "      <td>0</td>\n",
       "    </tr>\n",
       "    <tr>\n",
       "      <th>32457</th>\n",
       "      <td>Having the In-Laws over for the weekend? Then ...</td>\n",
       "      <td>0</td>\n",
       "    </tr>\n",
       "    <tr>\n",
       "      <th>18157</th>\n",
       "      <td>I'm seldom partial to movies about smart-assed...</td>\n",
       "      <td>1</td>\n",
       "    </tr>\n",
       "  </tbody>\n",
       "</table>\n",
       "</div>"
      ],
      "text/plain": [
       "                                                  review  sentiment\n",
       "48087  I don't want to write too much about the film ...          1\n",
       "13061  A great story, based on a true story about a y...          1\n",
       "24234  First of all, what is good in the movie ? Some...          0\n",
       "32457  Having the In-Laws over for the weekend? Then ...          0\n",
       "18157  I'm seldom partial to movies about smart-assed...          1"
      ]
     },
     "execution_count": 9,
     "metadata": {},
     "output_type": "execute_result"
    }
   ],
   "source": [
    "df.head()"
   ]
  },
  {
   "cell_type": "code",
   "execution_count": 10,
   "id": "0690d29c",
   "metadata": {
    "execution": {
     "iopub.execute_input": "2022-11-09T16:22:26.999098Z",
     "iopub.status.busy": "2022-11-09T16:22:26.998610Z",
     "iopub.status.idle": "2022-11-09T16:22:27.006477Z",
     "shell.execute_reply": "2022-11-09T16:22:27.005567Z"
    },
    "papermill": {
     "duration": 0.022259,
     "end_time": "2022-11-09T16:22:27.009068",
     "exception": false,
     "start_time": "2022-11-09T16:22:26.986809",
     "status": "completed"
    },
    "tags": []
   },
   "outputs": [
    {
     "data": {
      "text/plain": [
       "\"I don't want to write too much about the film but basically it's an action/comedy with a little bit of romance thrown in about two men who come together in unlikely circumstances and become highway men together. Fantastic performance by Robert Carlysle and everybody else involved. A brilliant 'baddy' who really makes you hate him. Some great comical lines - actually laugh out loud, amazing action and a great plot. Choice of music and ambiance all fantastic, basically brilliantly directed and brilliants written. I recommend this film to anyone who likes a good British movie or a good bit of action, i don't know why the film never took off, i thought it got no where near as much recognition as it deserved. If for nothing else, watch this film for one of the greatest finale's of all time. Not to give anything away, but this one really get's the heart beating!\""
      ]
     },
     "execution_count": 10,
     "metadata": {},
     "output_type": "execute_result"
    }
   ],
   "source": [
    "df.iloc[0].review"
   ]
  },
  {
   "cell_type": "code",
   "execution_count": 11,
   "id": "81eff4eb",
   "metadata": {
    "execution": {
     "iopub.execute_input": "2022-11-09T16:22:27.032109Z",
     "iopub.status.busy": "2022-11-09T16:22:27.030944Z",
     "iopub.status.idle": "2022-11-09T16:22:27.037270Z",
     "shell.execute_reply": "2022-11-09T16:22:27.036017Z"
    },
    "papermill": {
     "duration": 0.019229,
     "end_time": "2022-11-09T16:22:27.039186",
     "exception": false,
     "start_time": "2022-11-09T16:22:27.019957",
     "status": "completed"
    },
    "tags": []
   },
   "outputs": [],
   "source": [
    "# remove html tags. re->regular expression\n",
    "import re\n",
    "def remove_html(text):\n",
    "    clean = re.compile('<.*?>')\n",
    "    return re.sub(clean,'',text)"
   ]
  },
  {
   "cell_type": "code",
   "execution_count": 12,
   "id": "5cbd3f21",
   "metadata": {
    "execution": {
     "iopub.execute_input": "2022-11-09T16:22:27.060752Z",
     "iopub.status.busy": "2022-11-09T16:22:27.060382Z",
     "iopub.status.idle": "2022-11-09T16:22:27.115256Z",
     "shell.execute_reply": "2022-11-09T16:22:27.114293Z"
    },
    "papermill": {
     "duration": 0.068414,
     "end_time": "2022-11-09T16:22:27.117682",
     "exception": false,
     "start_time": "2022-11-09T16:22:27.049268",
     "status": "completed"
    },
    "tags": []
   },
   "outputs": [],
   "source": [
    "df['review'] = df['review'].apply(remove_html)"
   ]
  },
  {
   "cell_type": "code",
   "execution_count": 13,
   "id": "a2776939",
   "metadata": {
    "execution": {
     "iopub.execute_input": "2022-11-09T16:22:27.140700Z",
     "iopub.status.busy": "2022-11-09T16:22:27.140318Z",
     "iopub.status.idle": "2022-11-09T16:22:27.148731Z",
     "shell.execute_reply": "2022-11-09T16:22:27.147288Z"
    },
    "papermill": {
     "duration": 0.023054,
     "end_time": "2022-11-09T16:22:27.151477",
     "exception": false,
     "start_time": "2022-11-09T16:22:27.128423",
     "status": "completed"
    },
    "tags": []
   },
   "outputs": [
    {
     "data": {
      "text/plain": [
       "\"I don't want to write too much about the film but basically it's an action/comedy with a little bit of romance thrown in about two men who come together in unlikely circumstances and become highway men together. Fantastic performance by Robert Carlysle and everybody else involved. A brilliant 'baddy' who really makes you hate him. Some great comical lines - actually laugh out loud, amazing action and a great plot. Choice of music and ambiance all fantastic, basically brilliantly directed and brilliants written. I recommend this film to anyone who likes a good British movie or a good bit of action, i don't know why the film never took off, i thought it got no where near as much recognition as it deserved. If for nothing else, watch this film for one of the greatest finale's of all time. Not to give anything away, but this one really get's the heart beating!\""
      ]
     },
     "execution_count": 13,
     "metadata": {},
     "output_type": "execute_result"
    }
   ],
   "source": [
    "df.iloc[0].review"
   ]
  },
  {
   "cell_type": "code",
   "execution_count": 14,
   "id": "04a05ba8",
   "metadata": {
    "execution": {
     "iopub.execute_input": "2022-11-09T16:22:27.174613Z",
     "iopub.status.busy": "2022-11-09T16:22:27.174194Z",
     "iopub.status.idle": "2022-11-09T16:22:27.208087Z",
     "shell.execute_reply": "2022-11-09T16:22:27.206730Z"
    },
    "papermill": {
     "duration": 0.048155,
     "end_time": "2022-11-09T16:22:27.210735",
     "exception": false,
     "start_time": "2022-11-09T16:22:27.162580",
     "status": "completed"
    },
    "tags": []
   },
   "outputs": [],
   "source": [
    "# convert all to lower case\n",
    "df['review'] = df['review'].apply(lambda x:x.lower())"
   ]
  },
  {
   "cell_type": "code",
   "execution_count": 15,
   "id": "a75d4b1e",
   "metadata": {
    "execution": {
     "iopub.execute_input": "2022-11-09T16:22:27.236513Z",
     "iopub.status.busy": "2022-11-09T16:22:27.235989Z",
     "iopub.status.idle": "2022-11-09T16:22:27.245270Z",
     "shell.execute_reply": "2022-11-09T16:22:27.244208Z"
    },
    "papermill": {
     "duration": 0.025995,
     "end_time": "2022-11-09T16:22:27.247434",
     "exception": false,
     "start_time": "2022-11-09T16:22:27.221439",
     "status": "completed"
    },
    "tags": []
   },
   "outputs": [
    {
     "data": {
      "text/plain": [
       "\"i don't want to write too much about the film but basically it's an action/comedy with a little bit of romance thrown in about two men who come together in unlikely circumstances and become highway men together. fantastic performance by robert carlysle and everybody else involved. a brilliant 'baddy' who really makes you hate him. some great comical lines - actually laugh out loud, amazing action and a great plot. choice of music and ambiance all fantastic, basically brilliantly directed and brilliants written. i recommend this film to anyone who likes a good british movie or a good bit of action, i don't know why the film never took off, i thought it got no where near as much recognition as it deserved. if for nothing else, watch this film for one of the greatest finale's of all time. not to give anything away, but this one really get's the heart beating!\""
      ]
     },
     "execution_count": 15,
     "metadata": {},
     "output_type": "execute_result"
    }
   ],
   "source": [
    "df.iloc[0].review"
   ]
  },
  {
   "cell_type": "code",
   "execution_count": 16,
   "id": "078f2cc8",
   "metadata": {
    "execution": {
     "iopub.execute_input": "2022-11-09T16:22:27.274087Z",
     "iopub.status.busy": "2022-11-09T16:22:27.273607Z",
     "iopub.status.idle": "2022-11-09T16:22:27.279512Z",
     "shell.execute_reply": "2022-11-09T16:22:27.278594Z"
    },
    "papermill": {
     "duration": 0.021742,
     "end_time": "2022-11-09T16:22:27.281315",
     "exception": false,
     "start_time": "2022-11-09T16:22:27.259573",
     "status": "completed"
    },
    "tags": []
   },
   "outputs": [],
   "source": [
    "# remove special characters. isalnum()->alpha neumeric\n",
    "def remove_spc(text):\n",
    "    without_spc = ''\n",
    "    for i in text:\n",
    "        if i.isalnum():\n",
    "            without_spc = without_spc + i\n",
    "        else:\n",
    "            without_spc = without_spc + ' '\n",
    "    return without_spc"
   ]
  },
  {
   "cell_type": "code",
   "execution_count": 17,
   "id": "d131022f",
   "metadata": {
    "execution": {
     "iopub.execute_input": "2022-11-09T16:22:27.306925Z",
     "iopub.status.busy": "2022-11-09T16:22:27.306475Z",
     "iopub.status.idle": "2022-11-09T16:22:29.027560Z",
     "shell.execute_reply": "2022-11-09T16:22:29.026132Z"
    },
    "papermill": {
     "duration": 1.737617,
     "end_time": "2022-11-09T16:22:29.029757",
     "exception": false,
     "start_time": "2022-11-09T16:22:27.292140",
     "status": "completed"
    },
    "tags": []
   },
   "outputs": [],
   "source": [
    "df['review'] = df['review'].apply(remove_spc)"
   ]
  },
  {
   "cell_type": "code",
   "execution_count": 18,
   "id": "c9da8389",
   "metadata": {
    "execution": {
     "iopub.execute_input": "2022-11-09T16:22:29.052329Z",
     "iopub.status.busy": "2022-11-09T16:22:29.051909Z",
     "iopub.status.idle": "2022-11-09T16:22:29.058601Z",
     "shell.execute_reply": "2022-11-09T16:22:29.057721Z"
    },
    "papermill": {
     "duration": 0.020131,
     "end_time": "2022-11-09T16:22:29.060380",
     "exception": false,
     "start_time": "2022-11-09T16:22:29.040249",
     "status": "completed"
    },
    "tags": []
   },
   "outputs": [
    {
     "data": {
      "text/plain": [
       "'i don t want to write too much about the film but basically it s an action comedy with a little bit of romance thrown in about two men who come together in unlikely circumstances and become highway men together  fantastic performance by robert carlysle and everybody else involved  a brilliant  baddy  who really makes you hate him  some great comical lines   actually laugh out loud  amazing action and a great plot  choice of music and ambiance all fantastic  basically brilliantly directed and brilliants written  i recommend this film to anyone who likes a good british movie or a good bit of action  i don t know why the film never took off  i thought it got no where near as much recognition as it deserved  if for nothing else  watch this film for one of the greatest finale s of all time  not to give anything away  but this one really get s the heart beating '"
      ]
     },
     "execution_count": 18,
     "metadata": {},
     "output_type": "execute_result"
    }
   ],
   "source": [
    "df.iloc[0].review"
   ]
  },
  {
   "cell_type": "code",
   "execution_count": 19,
   "id": "434c9581",
   "metadata": {
    "execution": {
     "iopub.execute_input": "2022-11-09T16:22:29.085005Z",
     "iopub.status.busy": "2022-11-09T16:22:29.083651Z",
     "iopub.status.idle": "2022-11-09T16:22:30.980199Z",
     "shell.execute_reply": "2022-11-09T16:22:30.979007Z"
    },
    "papermill": {
     "duration": 1.911484,
     "end_time": "2022-11-09T16:22:30.982959",
     "exception": false,
     "start_time": "2022-11-09T16:22:29.071475",
     "status": "completed"
    },
    "tags": []
   },
   "outputs": [],
   "source": [
    "import nltk\n",
    "from nltk.corpus import stopwords"
   ]
  },
  {
   "cell_type": "code",
   "execution_count": 20,
   "id": "8fc962b9",
   "metadata": {
    "execution": {
     "iopub.execute_input": "2022-11-09T16:22:31.008401Z",
     "iopub.status.busy": "2022-11-09T16:22:31.007990Z",
     "iopub.status.idle": "2022-11-09T16:22:31.013836Z",
     "shell.execute_reply": "2022-11-09T16:22:31.012752Z"
    },
    "papermill": {
     "duration": 0.021209,
     "end_time": "2022-11-09T16:22:31.016729",
     "exception": false,
     "start_time": "2022-11-09T16:22:30.995520",
     "status": "completed"
    },
    "tags": []
   },
   "outputs": [],
   "source": [
    "# remove stopwords\n",
    "def remove_stopwords(text):\n",
    "    x = []\n",
    "    for i in text.split():\n",
    "        if i not in stopwords.words('english'):\n",
    "            x.append(i)\n",
    "    without_stopwords = x[:]\n",
    "    x.clear()\n",
    "    return without_stopwords"
   ]
  },
  {
   "cell_type": "code",
   "execution_count": 21,
   "id": "2ace780b",
   "metadata": {
    "execution": {
     "iopub.execute_input": "2022-11-09T16:22:31.041154Z",
     "iopub.status.busy": "2022-11-09T16:22:31.040503Z",
     "iopub.status.idle": "2022-11-09T16:26:33.585528Z",
     "shell.execute_reply": "2022-11-09T16:26:33.583740Z"
    },
    "papermill": {
     "duration": 242.560705,
     "end_time": "2022-11-09T16:26:33.588407",
     "exception": false,
     "start_time": "2022-11-09T16:22:31.027702",
     "status": "completed"
    },
    "tags": []
   },
   "outputs": [],
   "source": [
    "df['review'] = df['review'].apply(remove_stopwords)"
   ]
  },
  {
   "cell_type": "code",
   "execution_count": 22,
   "id": "df631302",
   "metadata": {
    "execution": {
     "iopub.execute_input": "2022-11-09T16:26:33.612229Z",
     "iopub.status.busy": "2022-11-09T16:26:33.611869Z",
     "iopub.status.idle": "2022-11-09T16:26:33.624921Z",
     "shell.execute_reply": "2022-11-09T16:26:33.623877Z"
    },
    "papermill": {
     "duration": 0.026998,
     "end_time": "2022-11-09T16:26:33.626739",
     "exception": false,
     "start_time": "2022-11-09T16:26:33.599741",
     "status": "completed"
    },
    "tags": []
   },
   "outputs": [
    {
     "data": {
      "text/html": [
       "<div>\n",
       "<style scoped>\n",
       "    .dataframe tbody tr th:only-of-type {\n",
       "        vertical-align: middle;\n",
       "    }\n",
       "\n",
       "    .dataframe tbody tr th {\n",
       "        vertical-align: top;\n",
       "    }\n",
       "\n",
       "    .dataframe thead th {\n",
       "        text-align: right;\n",
       "    }\n",
       "</style>\n",
       "<table border=\"1\" class=\"dataframe\">\n",
       "  <thead>\n",
       "    <tr style=\"text-align: right;\">\n",
       "      <th></th>\n",
       "      <th>review</th>\n",
       "      <th>sentiment</th>\n",
       "    </tr>\n",
       "  </thead>\n",
       "  <tbody>\n",
       "    <tr>\n",
       "      <th>48087</th>\n",
       "      <td>[want, write, much, film, basically, action, c...</td>\n",
       "      <td>1</td>\n",
       "    </tr>\n",
       "    <tr>\n",
       "      <th>13061</th>\n",
       "      <td>[great, story, based, true, story, young, blac...</td>\n",
       "      <td>1</td>\n",
       "    </tr>\n",
       "    <tr>\n",
       "      <th>24234</th>\n",
       "      <td>[first, good, movie, pretty, actress, exotic, ...</td>\n",
       "      <td>0</td>\n",
       "    </tr>\n",
       "    <tr>\n",
       "      <th>32457</th>\n",
       "      <td>[laws, weekend, film, hasten, departure, faili...</td>\n",
       "      <td>0</td>\n",
       "    </tr>\n",
       "    <tr>\n",
       "      <th>18157</th>\n",
       "      <td>[seldom, partial, movies, smart, assed, teenag...</td>\n",
       "      <td>1</td>\n",
       "    </tr>\n",
       "  </tbody>\n",
       "</table>\n",
       "</div>"
      ],
      "text/plain": [
       "                                                  review  sentiment\n",
       "48087  [want, write, much, film, basically, action, c...          1\n",
       "13061  [great, story, based, true, story, young, blac...          1\n",
       "24234  [first, good, movie, pretty, actress, exotic, ...          0\n",
       "32457  [laws, weekend, film, hasten, departure, faili...          0\n",
       "18157  [seldom, partial, movies, smart, assed, teenag...          1"
      ]
     },
     "execution_count": 22,
     "metadata": {},
     "output_type": "execute_result"
    }
   ],
   "source": [
    "df.head()"
   ]
  },
  {
   "cell_type": "code",
   "execution_count": 23,
   "id": "ba9ff9bd",
   "metadata": {
    "execution": {
     "iopub.execute_input": "2022-11-09T16:26:33.649534Z",
     "iopub.status.busy": "2022-11-09T16:26:33.648999Z",
     "iopub.status.idle": "2022-11-09T16:26:33.655913Z",
     "shell.execute_reply": "2022-11-09T16:26:33.654186Z"
    },
    "papermill": {
     "duration": 0.021012,
     "end_time": "2022-11-09T16:26:33.658587",
     "exception": false,
     "start_time": "2022-11-09T16:26:33.637575",
     "status": "completed"
    },
    "tags": []
   },
   "outputs": [],
   "source": [
    "# to find the root word\n",
    "from nltk.stem.porter import PorterStemmer\n",
    "ps = PorterStemmer()\n",
    "\n",
    "def stem_words(text):\n",
    "    y = []\n",
    "    for i in text:\n",
    "        y.append(ps.stem(i))\n",
    "    stemmed_words = y[:]\n",
    "    y.clear()\n",
    "    return stemmed_words"
   ]
  },
  {
   "cell_type": "code",
   "execution_count": 24,
   "id": "f35344f2",
   "metadata": {
    "execution": {
     "iopub.execute_input": "2022-11-09T16:26:33.681508Z",
     "iopub.status.busy": "2022-11-09T16:26:33.680793Z",
     "iopub.status.idle": "2022-11-09T16:27:02.408221Z",
     "shell.execute_reply": "2022-11-09T16:27:02.407246Z"
    },
    "papermill": {
     "duration": 28.741562,
     "end_time": "2022-11-09T16:27:02.410678",
     "exception": false,
     "start_time": "2022-11-09T16:26:33.669116",
     "status": "completed"
    },
    "tags": []
   },
   "outputs": [],
   "source": [
    "df['review'] = df['review'].apply(stem_words)"
   ]
  },
  {
   "cell_type": "code",
   "execution_count": 25,
   "id": "fd747d82",
   "metadata": {
    "execution": {
     "iopub.execute_input": "2022-11-09T16:27:02.433817Z",
     "iopub.status.busy": "2022-11-09T16:27:02.432537Z",
     "iopub.status.idle": "2022-11-09T16:27:02.497241Z",
     "shell.execute_reply": "2022-11-09T16:27:02.496267Z"
    },
    "papermill": {
     "duration": 0.078542,
     "end_time": "2022-11-09T16:27:02.499719",
     "exception": false,
     "start_time": "2022-11-09T16:27:02.421177",
     "status": "completed"
    },
    "tags": []
   },
   "outputs": [],
   "source": [
    "df['review'] = df['review'].apply(lambda x:\" \".join(x))"
   ]
  },
  {
   "cell_type": "code",
   "execution_count": 26,
   "id": "07f6d4fa",
   "metadata": {
    "execution": {
     "iopub.execute_input": "2022-11-09T16:27:02.522858Z",
     "iopub.status.busy": "2022-11-09T16:27:02.521552Z",
     "iopub.status.idle": "2022-11-09T16:27:02.531514Z",
     "shell.execute_reply": "2022-11-09T16:27:02.530105Z"
    },
    "papermill": {
     "duration": 0.023441,
     "end_time": "2022-11-09T16:27:02.533591",
     "exception": false,
     "start_time": "2022-11-09T16:27:02.510150",
     "status": "completed"
    },
    "tags": []
   },
   "outputs": [
    {
     "data": {
      "text/html": [
       "<div>\n",
       "<style scoped>\n",
       "    .dataframe tbody tr th:only-of-type {\n",
       "        vertical-align: middle;\n",
       "    }\n",
       "\n",
       "    .dataframe tbody tr th {\n",
       "        vertical-align: top;\n",
       "    }\n",
       "\n",
       "    .dataframe thead th {\n",
       "        text-align: right;\n",
       "    }\n",
       "</style>\n",
       "<table border=\"1\" class=\"dataframe\">\n",
       "  <thead>\n",
       "    <tr style=\"text-align: right;\">\n",
       "      <th></th>\n",
       "      <th>review</th>\n",
       "      <th>sentiment</th>\n",
       "    </tr>\n",
       "  </thead>\n",
       "  <tbody>\n",
       "    <tr>\n",
       "      <th>48087</th>\n",
       "      <td>want write much film basic action comedi littl...</td>\n",
       "      <td>1</td>\n",
       "    </tr>\n",
       "    <tr>\n",
       "      <th>13061</th>\n",
       "      <td>great stori base true stori young black man di...</td>\n",
       "      <td>1</td>\n",
       "    </tr>\n",
       "    <tr>\n",
       "      <th>24234</th>\n",
       "      <td>first good movi pretti actress exot background...</td>\n",
       "      <td>0</td>\n",
       "    </tr>\n",
       "    <tr>\n",
       "      <th>32457</th>\n",
       "      <td>law weekend film hasten departur fail induc ca...</td>\n",
       "      <td>0</td>\n",
       "    </tr>\n",
       "    <tr>\n",
       "      <th>18157</th>\n",
       "      <td>seldom partial movi smart ass teenag problem a...</td>\n",
       "      <td>1</td>\n",
       "    </tr>\n",
       "  </tbody>\n",
       "</table>\n",
       "</div>"
      ],
      "text/plain": [
       "                                                  review  sentiment\n",
       "48087  want write much film basic action comedi littl...          1\n",
       "13061  great stori base true stori young black man di...          1\n",
       "24234  first good movi pretti actress exot background...          0\n",
       "32457  law weekend film hasten departur fail induc ca...          0\n",
       "18157  seldom partial movi smart ass teenag problem a...          1"
      ]
     },
     "execution_count": 26,
     "metadata": {},
     "output_type": "execute_result"
    }
   ],
   "source": [
    "df.head()"
   ]
  },
  {
   "cell_type": "code",
   "execution_count": 27,
   "id": "01065852",
   "metadata": {
    "execution": {
     "iopub.execute_input": "2022-11-09T16:27:02.556859Z",
     "iopub.status.busy": "2022-11-09T16:27:02.556439Z",
     "iopub.status.idle": "2022-11-09T16:27:02.560574Z",
     "shell.execute_reply": "2022-11-09T16:27:02.559638Z"
    },
    "papermill": {
     "duration": 0.01815,
     "end_time": "2022-11-09T16:27:02.562354",
     "exception": false,
     "start_time": "2022-11-09T16:27:02.544204",
     "status": "completed"
    },
    "tags": []
   },
   "outputs": [],
   "source": [
    "new_df = df"
   ]
  },
  {
   "cell_type": "code",
   "execution_count": 28,
   "id": "2fcedf97",
   "metadata": {
    "execution": {
     "iopub.execute_input": "2022-11-09T16:27:02.585822Z",
     "iopub.status.busy": "2022-11-09T16:27:02.585431Z",
     "iopub.status.idle": "2022-11-09T16:27:02.589670Z",
     "shell.execute_reply": "2022-11-09T16:27:02.588791Z"
    },
    "papermill": {
     "duration": 0.018094,
     "end_time": "2022-11-09T16:27:02.591412",
     "exception": false,
     "start_time": "2022-11-09T16:27:02.573318",
     "status": "completed"
    },
    "tags": []
   },
   "outputs": [],
   "source": [
    "# apply BoW\n",
    "from sklearn.feature_extraction.text import CountVectorizer\n",
    "tfv = CountVectorizer(max_features=10000)"
   ]
  },
  {
   "cell_type": "code",
   "execution_count": 29,
   "id": "861d0c08",
   "metadata": {
    "execution": {
     "iopub.execute_input": "2022-11-09T16:27:02.613726Z",
     "iopub.status.busy": "2022-11-09T16:27:02.613357Z",
     "iopub.status.idle": "2022-11-09T16:27:03.690072Z",
     "shell.execute_reply": "2022-11-09T16:27:03.688617Z"
    },
    "papermill": {
     "duration": 1.090676,
     "end_time": "2022-11-09T16:27:03.692740",
     "exception": false,
     "start_time": "2022-11-09T16:27:02.602064",
     "status": "completed"
    },
    "tags": []
   },
   "outputs": [],
   "source": [
    "vectors_bow = tfv.fit_transform(new_df['review']).toarray()"
   ]
  },
  {
   "cell_type": "code",
   "execution_count": 30,
   "id": "e97fd21f",
   "metadata": {
    "execution": {
     "iopub.execute_input": "2022-11-09T16:27:03.715494Z",
     "iopub.status.busy": "2022-11-09T16:27:03.715130Z",
     "iopub.status.idle": "2022-11-09T16:27:03.722305Z",
     "shell.execute_reply": "2022-11-09T16:27:03.721350Z"
    },
    "papermill": {
     "duration": 0.021788,
     "end_time": "2022-11-09T16:27:03.725268",
     "exception": false,
     "start_time": "2022-11-09T16:27:03.703480",
     "status": "completed"
    },
    "tags": []
   },
   "outputs": [
    {
     "data": {
      "text/plain": [
       "(10000, 10000)"
      ]
     },
     "execution_count": 30,
     "metadata": {},
     "output_type": "execute_result"
    }
   ],
   "source": [
    "vectors_bow.shape"
   ]
  },
  {
   "cell_type": "code",
   "execution_count": 31,
   "id": "31c3c841",
   "metadata": {
    "execution": {
     "iopub.execute_input": "2022-11-09T16:27:03.749251Z",
     "iopub.status.busy": "2022-11-09T16:27:03.748771Z",
     "iopub.status.idle": "2022-11-09T16:27:03.779617Z",
     "shell.execute_reply": "2022-11-09T16:27:03.778763Z"
    },
    "papermill": {
     "duration": 0.0453,
     "end_time": "2022-11-09T16:27:03.781660",
     "exception": false,
     "start_time": "2022-11-09T16:27:03.736360",
     "status": "completed"
    },
    "tags": []
   },
   "outputs": [
    {
     "name": "stderr",
     "output_type": "stream",
     "text": [
      "/opt/conda/lib/python3.7/site-packages/sklearn/utils/deprecation.py:87: FutureWarning: Function get_feature_names is deprecated; get_feature_names is deprecated in 1.0 and will be removed in 1.2. Please use get_feature_names_out instead.\n",
      "  warnings.warn(msg, category=FutureWarning)\n"
     ]
    },
    {
     "data": {
      "text/plain": [
       "['00',\n",
       " '000',\n",
       " '007',\n",
       " '01',\n",
       " '02',\n",
       " '10',\n",
       " '100',\n",
       " '1000',\n",
       " '101',\n",
       " '102',\n",
       " '10th',\n",
       " '11',\n",
       " '12',\n",
       " '120',\n",
       " '13',\n",
       " '13th',\n",
       " '14',\n",
       " '14th',\n",
       " '15',\n",
       " '150',\n",
       " '16',\n",
       " '17',\n",
       " '17th',\n",
       " '18',\n",
       " '180',\n",
       " '1800',\n",
       " '18th',\n",
       " '19',\n",
       " '1900',\n",
       " '1918',\n",
       " '1920',\n",
       " '1922',\n",
       " '1927',\n",
       " '1928',\n",
       " '1929',\n",
       " '1930',\n",
       " '1931',\n",
       " '1932',\n",
       " '1933',\n",
       " '1934',\n",
       " '1935',\n",
       " '1936',\n",
       " '1937',\n",
       " '1938',\n",
       " '1939',\n",
       " '1940',\n",
       " '1941',\n",
       " '1942',\n",
       " '1943',\n",
       " '1944',\n",
       " '1945',\n",
       " '1946',\n",
       " '1947',\n",
       " '1948',\n",
       " '1949',\n",
       " '1950',\n",
       " '1951',\n",
       " '1952',\n",
       " '1953',\n",
       " '1954',\n",
       " '1955',\n",
       " '1956',\n",
       " '1957',\n",
       " '1958',\n",
       " '1959',\n",
       " '1960',\n",
       " '1962',\n",
       " '1963',\n",
       " '1964',\n",
       " '1965',\n",
       " '1966',\n",
       " '1967',\n",
       " '1968',\n",
       " '1969',\n",
       " '1970',\n",
       " '1971',\n",
       " '1972',\n",
       " '1973',\n",
       " '1974',\n",
       " '1975',\n",
       " '1976',\n",
       " '1977',\n",
       " '1978',\n",
       " '1979',\n",
       " '1980',\n",
       " '1981',\n",
       " '1982',\n",
       " '1983',\n",
       " '1984',\n",
       " '1985',\n",
       " '1986',\n",
       " '1987',\n",
       " '1988',\n",
       " '1989',\n",
       " '1990',\n",
       " '1991',\n",
       " '1992',\n",
       " '1993',\n",
       " '1994',\n",
       " '1995',\n",
       " '1996',\n",
       " '1997',\n",
       " '1998',\n",
       " '1999',\n",
       " '19th',\n",
       " '1st',\n",
       " '20',\n",
       " '200',\n",
       " '2000',\n",
       " '2001',\n",
       " '2002',\n",
       " '2003',\n",
       " '2004',\n",
       " '2005',\n",
       " '2006',\n",
       " '2007',\n",
       " '2008',\n",
       " '2009',\n",
       " '20th',\n",
       " '21',\n",
       " '21st',\n",
       " '22',\n",
       " '23',\n",
       " '24',\n",
       " '25',\n",
       " '250',\n",
       " '26',\n",
       " '27',\n",
       " '28',\n",
       " '29',\n",
       " '2nd',\n",
       " '30',\n",
       " '300',\n",
       " '3000',\n",
       " '33',\n",
       " '35',\n",
       " '36',\n",
       " '37',\n",
       " '39',\n",
       " '3d',\n",
       " '3rd',\n",
       " '40',\n",
       " '400',\n",
       " '42',\n",
       " '42nd',\n",
       " '43',\n",
       " '45',\n",
       " '46',\n",
       " '47',\n",
       " '48',\n",
       " '4th',\n",
       " '50',\n",
       " '500',\n",
       " '54',\n",
       " '56',\n",
       " '5th',\n",
       " '60',\n",
       " '65',\n",
       " '666',\n",
       " '68',\n",
       " '6th',\n",
       " '70',\n",
       " '73',\n",
       " '747',\n",
       " '75',\n",
       " '77',\n",
       " '78',\n",
       " '79',\n",
       " '7th',\n",
       " '80',\n",
       " '82',\n",
       " '83',\n",
       " '84',\n",
       " '85',\n",
       " '86',\n",
       " '88',\n",
       " '89',\n",
       " '8mm',\n",
       " '8th',\n",
       " '90',\n",
       " '90210',\n",
       " '91',\n",
       " '911',\n",
       " '93',\n",
       " '95',\n",
       " '96',\n",
       " '97',\n",
       " '98',\n",
       " '99',\n",
       " '9th',\n",
       " 'aaliyah',\n",
       " 'aamir',\n",
       " 'aaron',\n",
       " 'ab',\n",
       " 'abandon',\n",
       " 'abba',\n",
       " 'abbey',\n",
       " 'abbot',\n",
       " 'abbott',\n",
       " 'abc',\n",
       " 'abduct',\n",
       " 'abhishek',\n",
       " 'abil',\n",
       " 'abl',\n",
       " 'abli',\n",
       " 'aboard',\n",
       " 'abomin',\n",
       " 'aborigin',\n",
       " 'abort',\n",
       " 'abound',\n",
       " 'abraham',\n",
       " 'abroad',\n",
       " 'abrupt',\n",
       " 'abruptli',\n",
       " 'absenc',\n",
       " 'absent',\n",
       " 'absolut',\n",
       " 'absorb',\n",
       " 'abstract',\n",
       " 'absurd',\n",
       " 'abund',\n",
       " 'abus',\n",
       " 'abysm',\n",
       " 'abyss',\n",
       " 'academ',\n",
       " 'academi',\n",
       " 'acceler',\n",
       " 'accent',\n",
       " 'accentu',\n",
       " 'accept',\n",
       " 'access',\n",
       " 'accid',\n",
       " 'accident',\n",
       " 'acclaim',\n",
       " 'accolad',\n",
       " 'accompani',\n",
       " 'accomplic',\n",
       " 'accomplish',\n",
       " 'accord',\n",
       " 'accordingli',\n",
       " 'account',\n",
       " 'accur',\n",
       " 'accuraci',\n",
       " 'accus',\n",
       " 'accustom',\n",
       " 'ace',\n",
       " 'ach',\n",
       " 'achiev',\n",
       " 'achil',\n",
       " 'acid',\n",
       " 'acknowledg',\n",
       " 'acquaint',\n",
       " 'acquir',\n",
       " 'acquit',\n",
       " 'acr',\n",
       " 'acrobat',\n",
       " 'across',\n",
       " 'act',\n",
       " 'action',\n",
       " 'activ',\n",
       " 'activist',\n",
       " 'actor',\n",
       " 'actress',\n",
       " 'actual',\n",
       " 'ad',\n",
       " 'ada',\n",
       " 'adam',\n",
       " 'adapt',\n",
       " 'add',\n",
       " 'addict',\n",
       " 'addit',\n",
       " 'address',\n",
       " 'adel',\n",
       " 'adept',\n",
       " 'adequ',\n",
       " 'adher',\n",
       " 'aditya',\n",
       " 'adject',\n",
       " 'adjust',\n",
       " 'administr',\n",
       " 'admir',\n",
       " 'admiss',\n",
       " 'admit',\n",
       " 'admittedli',\n",
       " 'adolesc',\n",
       " 'adolf',\n",
       " 'adopt',\n",
       " 'ador',\n",
       " 'adrenalin',\n",
       " 'adrian',\n",
       " 'adrienn',\n",
       " 'adult',\n",
       " 'adulteri',\n",
       " 'adulthood',\n",
       " 'advanc',\n",
       " 'advantag',\n",
       " 'adventur',\n",
       " 'advers',\n",
       " 'adversari',\n",
       " 'advertis',\n",
       " 'advic',\n",
       " 'advis',\n",
       " 'advoc',\n",
       " 'ae',\n",
       " 'aeon',\n",
       " 'aerial',\n",
       " 'aesthet',\n",
       " 'affabl',\n",
       " 'affair',\n",
       " 'affect',\n",
       " 'affection',\n",
       " 'affili',\n",
       " 'affin',\n",
       " 'affirm',\n",
       " 'affleck',\n",
       " 'afflict',\n",
       " 'affluent',\n",
       " 'afford',\n",
       " 'afghanistan',\n",
       " 'aficionado',\n",
       " 'aforement',\n",
       " 'afraid',\n",
       " 'africa',\n",
       " 'african',\n",
       " 'afro',\n",
       " 'afterlif',\n",
       " 'aftermath',\n",
       " 'afternoon',\n",
       " 'afterward',\n",
       " 'agamemnon',\n",
       " 'agatha',\n",
       " 'age',\n",
       " 'agenc',\n",
       " 'agenda',\n",
       " 'agent',\n",
       " 'aggrav',\n",
       " 'aggress',\n",
       " 'aghast',\n",
       " 'agn',\n",
       " 'ago',\n",
       " 'agoni',\n",
       " 'agre',\n",
       " 'agreement',\n",
       " 'agutt',\n",
       " 'ah',\n",
       " 'ahead',\n",
       " 'aid',\n",
       " 'aiello',\n",
       " 'ail',\n",
       " 'aim',\n",
       " 'aimless',\n",
       " 'aimlessli',\n",
       " 'air',\n",
       " 'aircraft',\n",
       " 'airlin',\n",
       " 'airplan',\n",
       " 'airport',\n",
       " 'aisl',\n",
       " 'ajay',\n",
       " 'aka',\n",
       " 'akin',\n",
       " 'akshay',\n",
       " 'al',\n",
       " 'ala',\n",
       " 'alabama',\n",
       " 'alain',\n",
       " 'alan',\n",
       " 'alarm',\n",
       " 'alba',\n",
       " 'albeit',\n",
       " 'albert',\n",
       " 'album',\n",
       " 'alcohol',\n",
       " 'alda',\n",
       " 'ale',\n",
       " 'alec',\n",
       " 'alejandro',\n",
       " 'alert',\n",
       " 'alex',\n",
       " 'alexand',\n",
       " 'alexandr',\n",
       " 'alexandra',\n",
       " 'alexi',\n",
       " 'alfr',\n",
       " 'ali',\n",
       " 'alibi',\n",
       " 'alic',\n",
       " 'alicia',\n",
       " 'alien',\n",
       " 'alik',\n",
       " 'alison',\n",
       " 'aliv',\n",
       " 'allan',\n",
       " 'alleg',\n",
       " 'allegedli',\n",
       " 'allegor',\n",
       " 'allegori',\n",
       " 'allen',\n",
       " 'allend',\n",
       " 'alley',\n",
       " 'alli',\n",
       " 'allianc',\n",
       " 'allison',\n",
       " 'allot',\n",
       " 'allow',\n",
       " 'allud',\n",
       " 'allur',\n",
       " 'allus',\n",
       " 'almighti',\n",
       " 'almodovar',\n",
       " 'almost',\n",
       " 'alon',\n",
       " 'along',\n",
       " 'alongsid',\n",
       " 'aloof',\n",
       " 'alot',\n",
       " 'alpha',\n",
       " 'alreadi',\n",
       " 'alright',\n",
       " 'also',\n",
       " 'altar',\n",
       " 'alter',\n",
       " 'altern',\n",
       " 'although',\n",
       " 'altman',\n",
       " 'altogeth',\n",
       " 'alvin',\n",
       " 'alway',\n",
       " 'amadeu',\n",
       " 'amanda',\n",
       " 'amar',\n",
       " 'amateur',\n",
       " 'amateurish',\n",
       " 'amato',\n",
       " 'amaz',\n",
       " 'amazingli',\n",
       " 'amazon',\n",
       " 'ambianc',\n",
       " 'ambient',\n",
       " 'ambigu',\n",
       " 'ambit',\n",
       " 'ambiti',\n",
       " 'ambival',\n",
       " 'ambul',\n",
       " 'ambush',\n",
       " 'amc',\n",
       " 'amech',\n",
       " 'amen',\n",
       " 'amenábar',\n",
       " 'america',\n",
       " 'american',\n",
       " 'ami',\n",
       " 'amiabl',\n",
       " 'amid',\n",
       " 'amidst',\n",
       " 'amir',\n",
       " 'amisha',\n",
       " 'amitabh',\n",
       " 'amnesia',\n",
       " 'amo',\n",
       " 'amok',\n",
       " 'among',\n",
       " 'amongst',\n",
       " 'amor',\n",
       " 'amount',\n",
       " 'amour',\n",
       " 'amp',\n",
       " 'ampl',\n",
       " 'amplifi',\n",
       " 'amrita',\n",
       " 'amus',\n",
       " 'amusingli',\n",
       " 'ana',\n",
       " 'anachron',\n",
       " 'anachronist',\n",
       " 'anakin',\n",
       " 'anal',\n",
       " 'analog',\n",
       " 'analysi',\n",
       " 'analyz',\n",
       " 'anand',\n",
       " 'anatomi',\n",
       " 'ancestor',\n",
       " 'anchor',\n",
       " 'anchorman',\n",
       " 'ancient',\n",
       " 'ander',\n",
       " 'anderson',\n",
       " 'andi',\n",
       " 'andr',\n",
       " 'andrea',\n",
       " 'andrew',\n",
       " 'ang',\n",
       " 'angel',\n",
       " 'angela',\n",
       " 'angelina',\n",
       " 'angelo',\n",
       " 'anger',\n",
       " 'angi',\n",
       " 'angl',\n",
       " 'angri',\n",
       " 'angst',\n",
       " 'anguish',\n",
       " 'anil',\n",
       " 'anim',\n",
       " 'aniston',\n",
       " 'anita',\n",
       " 'ann',\n",
       " 'anna',\n",
       " 'annabel',\n",
       " 'annett',\n",
       " 'anni',\n",
       " 'annihil',\n",
       " 'anniversari',\n",
       " 'announc',\n",
       " 'annoy',\n",
       " 'annoyingli',\n",
       " 'annual',\n",
       " 'anonym',\n",
       " 'anoth',\n",
       " 'answer',\n",
       " 'ant',\n",
       " 'antagonist',\n",
       " 'antholog',\n",
       " 'anthoni',\n",
       " 'anthropologist',\n",
       " 'anti',\n",
       " 'antic',\n",
       " 'antichrist',\n",
       " 'anticip',\n",
       " 'antidot',\n",
       " 'antiqu',\n",
       " 'antithesi',\n",
       " 'antoin',\n",
       " 'anton',\n",
       " 'antoni',\n",
       " 'antonio',\n",
       " 'antwon',\n",
       " 'anxieti',\n",
       " 'anxiou',\n",
       " 'anybodi',\n",
       " 'anyhow',\n",
       " 'anymor',\n",
       " 'anyon',\n",
       " 'anyth',\n",
       " 'anytim',\n",
       " 'anyway',\n",
       " 'anywher',\n",
       " 'apart',\n",
       " 'apartheid',\n",
       " 'apathet',\n",
       " 'ape',\n",
       " 'aplomb',\n",
       " 'apna',\n",
       " 'apocalyps',\n",
       " 'apocalypt',\n",
       " 'apollo',\n",
       " 'apolog',\n",
       " 'appal',\n",
       " 'appar',\n",
       " 'appeal',\n",
       " 'appear',\n",
       " 'appetit',\n",
       " 'appl',\n",
       " 'applaud',\n",
       " 'applaus',\n",
       " 'appleg',\n",
       " 'appli',\n",
       " 'applianc',\n",
       " 'applic',\n",
       " 'appoint',\n",
       " 'appreci',\n",
       " 'apprentic',\n",
       " 'approach',\n",
       " 'appropri',\n",
       " 'approv',\n",
       " 'approxim',\n",
       " 'april',\n",
       " 'apt',\n",
       " 'aptli',\n",
       " 'arab',\n",
       " 'arabia',\n",
       " 'arabian',\n",
       " 'arbitrari',\n",
       " 'arbuckl',\n",
       " 'arc',\n",
       " 'arch',\n",
       " 'archaeologist',\n",
       " 'archer',\n",
       " 'archetyp',\n",
       " 'archi',\n",
       " 'architect',\n",
       " 'architectur',\n",
       " 'archiv',\n",
       " 'arden',\n",
       " 'area',\n",
       " 'arena',\n",
       " 'argentina',\n",
       " 'argento',\n",
       " 'argu',\n",
       " 'arguabl',\n",
       " 'argument',\n",
       " 'ariel',\n",
       " 'aris',\n",
       " 'aristocrat',\n",
       " 'arizona',\n",
       " 'arjun',\n",
       " 'ark',\n",
       " 'arkin',\n",
       " 'arm',\n",
       " 'armageddon',\n",
       " 'armand',\n",
       " 'armi',\n",
       " 'armor',\n",
       " 'armour',\n",
       " 'armstrong',\n",
       " 'arnold',\n",
       " 'around',\n",
       " 'arous',\n",
       " 'arquett',\n",
       " 'arrang',\n",
       " 'array',\n",
       " 'arrest',\n",
       " 'arriv',\n",
       " 'arrog',\n",
       " 'arrow',\n",
       " 'art',\n",
       " 'artemisia',\n",
       " 'arthur',\n",
       " 'arti',\n",
       " 'articl',\n",
       " 'articul',\n",
       " 'artifact',\n",
       " 'artifici',\n",
       " 'artist',\n",
       " 'artistri',\n",
       " 'artsi',\n",
       " 'artwork',\n",
       " 'arzenta',\n",
       " 'ash',\n",
       " 'asham',\n",
       " 'ashley',\n",
       " 'ashton',\n",
       " 'asia',\n",
       " 'asian',\n",
       " 'asid',\n",
       " 'ask',\n",
       " 'askey',\n",
       " 'asleep',\n",
       " 'aspect',\n",
       " 'aspir',\n",
       " 'ass',\n",
       " 'assassin',\n",
       " 'assault',\n",
       " 'assef',\n",
       " 'assembl',\n",
       " 'assert',\n",
       " 'assess',\n",
       " 'asset',\n",
       " 'assi',\n",
       " 'assign',\n",
       " 'assist',\n",
       " 'associ',\n",
       " 'assort',\n",
       " 'assum',\n",
       " 'assumpt',\n",
       " 'assur',\n",
       " 'astair',\n",
       " 'asterix',\n",
       " 'astin',\n",
       " 'astonish',\n",
       " 'astonishingli',\n",
       " 'astound',\n",
       " 'astoundingli',\n",
       " 'astronaut',\n",
       " 'astérix',\n",
       " 'asylum',\n",
       " 'ate',\n",
       " 'atheist',\n",
       " 'athlet',\n",
       " 'atkin',\n",
       " 'atkinson',\n",
       " 'atlant',\n",
       " 'atlanti',\n",
       " 'atlantian',\n",
       " 'atmospher',\n",
       " 'atom',\n",
       " 'ator',\n",
       " 'atroc',\n",
       " 'atroci',\n",
       " 'attach',\n",
       " 'attack',\n",
       " 'attain',\n",
       " 'attempt',\n",
       " 'attenborough',\n",
       " 'attend',\n",
       " 'attent',\n",
       " 'attic',\n",
       " 'attila',\n",
       " 'attir',\n",
       " 'attitud',\n",
       " 'attorney',\n",
       " 'attract',\n",
       " 'attribut',\n",
       " 'atwil',\n",
       " 'atyp',\n",
       " 'au',\n",
       " 'audibl',\n",
       " 'audienc',\n",
       " 'audio',\n",
       " 'audit',\n",
       " 'audrey',\n",
       " 'august',\n",
       " 'aunt',\n",
       " 'aunti',\n",
       " 'aura',\n",
       " 'aussi',\n",
       " 'austen',\n",
       " 'auster',\n",
       " 'austin',\n",
       " 'australia',\n",
       " 'australian',\n",
       " 'austria',\n",
       " 'austrian',\n",
       " 'auteur',\n",
       " 'authent',\n",
       " 'author',\n",
       " 'autist',\n",
       " 'auto',\n",
       " 'autobiograph',\n",
       " 'autobiographi',\n",
       " 'automat',\n",
       " 'automobil',\n",
       " 'autumn',\n",
       " 'ava',\n",
       " 'avail',\n",
       " 'avant',\n",
       " 'aveng',\n",
       " 'averag',\n",
       " 'averi',\n",
       " 'avid',\n",
       " 'avoid',\n",
       " 'aw',\n",
       " 'await',\n",
       " 'awak',\n",
       " 'awaken',\n",
       " 'awar',\n",
       " 'award',\n",
       " 'away',\n",
       " 'awe',\n",
       " 'awesom',\n",
       " 'awhil',\n",
       " 'awkward',\n",
       " 'awkwardli',\n",
       " 'ax',\n",
       " 'axe',\n",
       " 'ayer',\n",
       " 'aykroyd',\n",
       " 'azaria',\n",
       " 'aztec',\n",
       " 'bab',\n",
       " 'babbl',\n",
       " 'babe',\n",
       " 'babett',\n",
       " 'babi',\n",
       " 'babysit',\n",
       " 'babysitt',\n",
       " 'bach',\n",
       " 'bachchan',\n",
       " 'bachelor',\n",
       " 'back',\n",
       " 'backbon',\n",
       " 'backdrop',\n",
       " 'backfir',\n",
       " 'background',\n",
       " 'backseat',\n",
       " 'backstag',\n",
       " 'backstori',\n",
       " 'backward',\n",
       " 'backwood',\n",
       " 'backyard',\n",
       " 'bacon',\n",
       " 'bad',\n",
       " 'badass',\n",
       " 'baddi',\n",
       " 'badg',\n",
       " 'badli',\n",
       " 'baffl',\n",
       " 'bag',\n",
       " 'bah',\n",
       " 'bail',\n",
       " 'bailey',\n",
       " 'bait',\n",
       " 'bake',\n",
       " 'baker',\n",
       " 'bakshi',\n",
       " 'balanc',\n",
       " 'bald',\n",
       " 'baldwin',\n",
       " 'ball',\n",
       " 'ballad',\n",
       " 'ballet',\n",
       " 'balloon',\n",
       " 'ballroom',\n",
       " 'baltimor',\n",
       " 'bam',\n",
       " 'ban',\n",
       " 'banal',\n",
       " 'banana',\n",
       " 'bancroft',\n",
       " 'band',\n",
       " 'bandit',\n",
       " 'bang',\n",
       " 'banish',\n",
       " 'banjo',\n",
       " 'bank',\n",
       " 'bankrupt',\n",
       " 'bankruptci',\n",
       " 'banner',\n",
       " 'bannist',\n",
       " 'banter',\n",
       " 'bar',\n",
       " 'barbar',\n",
       " 'barbara',\n",
       " 'barbarian',\n",
       " 'barber',\n",
       " 'barbershop',\n",
       " 'barbra',\n",
       " 'barcelona',\n",
       " 'bard',\n",
       " 'bardem',\n",
       " 'bare',\n",
       " 'bargain',\n",
       " 'barjatya',\n",
       " 'barker',\n",
       " 'barman',\n",
       " 'barn',\n",
       " 'barney',\n",
       " 'baron',\n",
       " 'barrag',\n",
       " 'barrel',\n",
       " 'barrett',\n",
       " 'barri',\n",
       " 'barrier',\n",
       " 'barrymor',\n",
       " 'bart',\n",
       " 'bartend',\n",
       " 'barthelmess',\n",
       " 'bartlebi',\n",
       " 'barton',\n",
       " 'base',\n",
       " 'basebal',\n",
       " 'basement',\n",
       " 'bash',\n",
       " 'basi',\n",
       " 'basic',\n",
       " 'basil',\n",
       " 'basing',\n",
       " 'basket',\n",
       " 'basketbal',\n",
       " 'bass',\n",
       " 'bastard',\n",
       " 'basterd',\n",
       " 'bat',\n",
       " 'bate',\n",
       " 'bath',\n",
       " 'bathroom',\n",
       " 'bathsheba',\n",
       " 'bathtub',\n",
       " 'batista',\n",
       " 'batman',\n",
       " 'batter',\n",
       " 'batteri',\n",
       " 'batti',\n",
       " 'battl',\n",
       " 'battlefield',\n",
       " 'battleship',\n",
       " 'battlestar',\n",
       " 'bauer',\n",
       " 'bava',\n",
       " 'baxter',\n",
       " 'bay',\n",
       " 'bazza',\n",
       " 'bb',\n",
       " 'bbc',\n",
       " 'be',\n",
       " 'beach',\n",
       " 'bead',\n",
       " 'beal',\n",
       " 'beam',\n",
       " 'bean',\n",
       " 'beanstalk',\n",
       " 'bear',\n",
       " 'bearabl',\n",
       " 'beard',\n",
       " 'bearer',\n",
       " 'beast',\n",
       " 'beat',\n",
       " 'beaten',\n",
       " 'beatl',\n",
       " 'beatti',\n",
       " 'beau',\n",
       " 'beauti',\n",
       " 'becam',\n",
       " 'beckham',\n",
       " 'becki',\n",
       " 'beckinsal',\n",
       " 'becom',\n",
       " 'bed',\n",
       " 'bedroom',\n",
       " 'bee',\n",
       " 'beef',\n",
       " 'beep',\n",
       " 'beer',\n",
       " 'beethoven',\n",
       " 'beetl',\n",
       " 'befit',\n",
       " 'beforehand',\n",
       " 'befriend',\n",
       " 'befuddl',\n",
       " 'beg',\n",
       " 'began',\n",
       " 'beggar',\n",
       " 'begin',\n",
       " 'begotten',\n",
       " 'beguil',\n",
       " 'begun',\n",
       " 'behalf',\n",
       " 'behav',\n",
       " 'behavior',\n",
       " 'behaviour',\n",
       " 'behind',\n",
       " 'behold',\n",
       " 'beij',\n",
       " 'bel',\n",
       " 'bela',\n",
       " 'belgian',\n",
       " 'belgium',\n",
       " 'beli',\n",
       " 'belief',\n",
       " 'believ',\n",
       " 'bell',\n",
       " 'beller',\n",
       " 'belli',\n",
       " 'belliger',\n",
       " 'bellow',\n",
       " 'bellucci',\n",
       " 'belong',\n",
       " 'belov',\n",
       " 'belt',\n",
       " 'belushi',\n",
       " 'ben',\n",
       " 'bench',\n",
       " 'bend',\n",
       " 'bene',\n",
       " 'beneath',\n",
       " 'benedict',\n",
       " 'benefit',\n",
       " 'benet',\n",
       " 'benjamin',\n",
       " 'bennett',\n",
       " 'benni',\n",
       " 'benoit',\n",
       " 'benson',\n",
       " 'bent',\n",
       " 'beowulf',\n",
       " 'berat',\n",
       " 'bereng',\n",
       " 'beret',\n",
       " 'bergman',\n",
       " 'berkeley',\n",
       " 'berkowitz',\n",
       " 'berlin',\n",
       " 'bernard',\n",
       " 'berni',\n",
       " 'bernsen',\n",
       " 'bernstein',\n",
       " 'berri',\n",
       " 'bert',\n",
       " 'besid',\n",
       " 'besson',\n",
       " 'best',\n",
       " 'bestsel',\n",
       " 'bet',\n",
       " 'beta',\n",
       " 'beth',\n",
       " 'bethlehem',\n",
       " 'betray',\n",
       " 'betsi',\n",
       " 'bett',\n",
       " 'better',\n",
       " 'betti',\n",
       " 'beverli',\n",
       " 'bevi',\n",
       " 'bewar',\n",
       " 'bewild',\n",
       " 'bey',\n",
       " 'beyond',\n",
       " 'bfg',\n",
       " 'bi',\n",
       " ...]"
      ]
     },
     "execution_count": 31,
     "metadata": {},
     "output_type": "execute_result"
    }
   ],
   "source": [
    "tfv.get_feature_names()"
   ]
  },
  {
   "cell_type": "code",
   "execution_count": 32,
   "id": "3acb2596",
   "metadata": {
    "execution": {
     "iopub.execute_input": "2022-11-09T16:27:03.807499Z",
     "iopub.status.busy": "2022-11-09T16:27:03.806648Z",
     "iopub.status.idle": "2022-11-09T16:27:03.811953Z",
     "shell.execute_reply": "2022-11-09T16:27:03.810776Z"
    },
    "papermill": {
     "duration": 0.020396,
     "end_time": "2022-11-09T16:27:03.813816",
     "exception": false,
     "start_time": "2022-11-09T16:27:03.793420",
     "status": "completed"
    },
    "tags": []
   },
   "outputs": [],
   "source": [
    "sentiment = new_df.iloc[:,-1].values"
   ]
  },
  {
   "cell_type": "code",
   "execution_count": 33,
   "id": "ba836a62",
   "metadata": {
    "execution": {
     "iopub.execute_input": "2022-11-09T16:27:03.837782Z",
     "iopub.status.busy": "2022-11-09T16:27:03.837393Z",
     "iopub.status.idle": "2022-11-09T16:27:03.844755Z",
     "shell.execute_reply": "2022-11-09T16:27:03.843653Z"
    },
    "papermill": {
     "duration": 0.021602,
     "end_time": "2022-11-09T16:27:03.846789",
     "exception": false,
     "start_time": "2022-11-09T16:27:03.825187",
     "status": "completed"
    },
    "tags": []
   },
   "outputs": [
    {
     "data": {
      "text/plain": [
       "array([1, 1, 0, ..., 0, 1, 1])"
      ]
     },
     "execution_count": 33,
     "metadata": {},
     "output_type": "execute_result"
    }
   ],
   "source": [
    "sentiment"
   ]
  },
  {
   "cell_type": "code",
   "execution_count": 34,
   "id": "1edeb4b8",
   "metadata": {
    "execution": {
     "iopub.execute_input": "2022-11-09T16:27:03.873368Z",
     "iopub.status.busy": "2022-11-09T16:27:03.872963Z",
     "iopub.status.idle": "2022-11-09T16:27:03.879668Z",
     "shell.execute_reply": "2022-11-09T16:27:03.878670Z"
    },
    "papermill": {
     "duration": 0.022118,
     "end_time": "2022-11-09T16:27:03.881539",
     "exception": false,
     "start_time": "2022-11-09T16:27:03.859421",
     "status": "completed"
    },
    "tags": []
   },
   "outputs": [
    {
     "data": {
      "text/plain": [
       "(10000,)"
      ]
     },
     "execution_count": 34,
     "metadata": {},
     "output_type": "execute_result"
    }
   ],
   "source": [
    "sentiment.shape"
   ]
  },
  {
   "cell_type": "code",
   "execution_count": 35,
   "id": "6f30dfc6",
   "metadata": {
    "execution": {
     "iopub.execute_input": "2022-11-09T16:27:03.913186Z",
     "iopub.status.busy": "2022-11-09T16:27:03.911615Z",
     "iopub.status.idle": "2022-11-09T16:27:04.106563Z",
     "shell.execute_reply": "2022-11-09T16:27:04.105586Z"
    },
    "papermill": {
     "duration": 0.214809,
     "end_time": "2022-11-09T16:27:04.109033",
     "exception": false,
     "start_time": "2022-11-09T16:27:03.894224",
     "status": "completed"
    },
    "tags": []
   },
   "outputs": [],
   "source": [
    "# now split the data for train and text a model\n",
    "from sklearn.model_selection import train_test_split\n",
    "X_train, X_test, y_train, y_test = train_test_split(vectors_bow, sentiment, test_size=0.2)"
   ]
  },
  {
   "cell_type": "code",
   "execution_count": 36,
   "id": "a9301938",
   "metadata": {
    "execution": {
     "iopub.execute_input": "2022-11-09T16:27:04.134156Z",
     "iopub.status.busy": "2022-11-09T16:27:04.133314Z",
     "iopub.status.idle": "2022-11-09T16:27:04.140391Z",
     "shell.execute_reply": "2022-11-09T16:27:04.138727Z"
    },
    "papermill": {
     "duration": 0.021347,
     "end_time": "2022-11-09T16:27:04.142331",
     "exception": false,
     "start_time": "2022-11-09T16:27:04.120984",
     "status": "completed"
    },
    "tags": []
   },
   "outputs": [
    {
     "data": {
      "text/plain": [
       "(8000, 10000)"
      ]
     },
     "execution_count": 36,
     "metadata": {},
     "output_type": "execute_result"
    }
   ],
   "source": [
    "# 8000 out of 10000\n",
    "X_train.shape"
   ]
  },
  {
   "cell_type": "code",
   "execution_count": 37,
   "id": "d4460bb0",
   "metadata": {
    "execution": {
     "iopub.execute_input": "2022-11-09T16:27:04.166251Z",
     "iopub.status.busy": "2022-11-09T16:27:04.165908Z",
     "iopub.status.idle": "2022-11-09T16:27:04.172101Z",
     "shell.execute_reply": "2022-11-09T16:27:04.171224Z"
    },
    "papermill": {
     "duration": 0.020309,
     "end_time": "2022-11-09T16:27:04.173866",
     "exception": false,
     "start_time": "2022-11-09T16:27:04.153557",
     "status": "completed"
    },
    "tags": []
   },
   "outputs": [
    {
     "data": {
      "text/plain": [
       "(2000, 10000)"
      ]
     },
     "execution_count": 37,
     "metadata": {},
     "output_type": "execute_result"
    }
   ],
   "source": [
    "X_test.shape"
   ]
  },
  {
   "cell_type": "code",
   "execution_count": 38,
   "id": "8bde4497",
   "metadata": {
    "execution": {
     "iopub.execute_input": "2022-11-09T16:27:04.198292Z",
     "iopub.status.busy": "2022-11-09T16:27:04.197970Z",
     "iopub.status.idle": "2022-11-09T16:27:04.204595Z",
     "shell.execute_reply": "2022-11-09T16:27:04.203299Z"
    },
    "papermill": {
     "duration": 0.021113,
     "end_time": "2022-11-09T16:27:04.206437",
     "exception": false,
     "start_time": "2022-11-09T16:27:04.185324",
     "status": "completed"
    },
    "tags": []
   },
   "outputs": [
    {
     "data": {
      "text/plain": [
       "(8000,)"
      ]
     },
     "execution_count": 38,
     "metadata": {},
     "output_type": "execute_result"
    }
   ],
   "source": [
    "y_train.shape"
   ]
  },
  {
   "cell_type": "code",
   "execution_count": 39,
   "id": "fe820d1e",
   "metadata": {
    "execution": {
     "iopub.execute_input": "2022-11-09T16:27:04.230806Z",
     "iopub.status.busy": "2022-11-09T16:27:04.230455Z",
     "iopub.status.idle": "2022-11-09T16:27:04.237310Z",
     "shell.execute_reply": "2022-11-09T16:27:04.236384Z"
    },
    "papermill": {
     "duration": 0.021053,
     "end_time": "2022-11-09T16:27:04.238936",
     "exception": false,
     "start_time": "2022-11-09T16:27:04.217883",
     "status": "completed"
    },
    "tags": []
   },
   "outputs": [
    {
     "data": {
      "text/plain": [
       "(2000,)"
      ]
     },
     "execution_count": 39,
     "metadata": {},
     "output_type": "execute_result"
    }
   ],
   "source": [
    "y_test.shape"
   ]
  },
  {
   "cell_type": "code",
   "execution_count": 40,
   "id": "50b02e94",
   "metadata": {
    "execution": {
     "iopub.execute_input": "2022-11-09T16:27:04.263710Z",
     "iopub.status.busy": "2022-11-09T16:27:04.263305Z",
     "iopub.status.idle": "2022-11-09T16:27:06.289488Z",
     "shell.execute_reply": "2022-11-09T16:27:06.288381Z"
    },
    "papermill": {
     "duration": 2.0409,
     "end_time": "2022-11-09T16:27:06.291430",
     "exception": false,
     "start_time": "2022-11-09T16:27:04.250530",
     "status": "completed"
    },
    "tags": []
   },
   "outputs": [
    {
     "data": {
      "text/plain": [
       "BernoulliNB()"
      ]
     },
     "execution_count": 40,
     "metadata": {},
     "output_type": "execute_result"
    }
   ],
   "source": [
    "# 1st check\n",
    "from sklearn.naive_bayes import GaussianNB,MultinomialNB,BernoulliNB\n",
    "\n",
    "clf1 = GaussianNB()\n",
    "clf2 = MultinomialNB()\n",
    "clf3 = BernoulliNB()\n",
    "\n",
    "clf1.fit(X_train, y_train)\n",
    "clf2.fit(X_train, y_train)\n",
    "clf3.fit(X_train, y_train)"
   ]
  },
  {
   "cell_type": "code",
   "execution_count": 41,
   "id": "74f6c42a",
   "metadata": {
    "execution": {
     "iopub.execute_input": "2022-11-09T16:27:06.318400Z",
     "iopub.status.busy": "2022-11-09T16:27:06.317939Z",
     "iopub.status.idle": "2022-11-09T16:27:06.693820Z",
     "shell.execute_reply": "2022-11-09T16:27:06.692978Z"
    },
    "papermill": {
     "duration": 0.392552,
     "end_time": "2022-11-09T16:27:06.696275",
     "exception": false,
     "start_time": "2022-11-09T16:27:06.303723",
     "status": "completed"
    },
    "tags": []
   },
   "outputs": [],
   "source": [
    "# size of y_pred1, y_pred2, y_pred3 same as y_test\n",
    "y_pred1 = clf1.predict(X_test)\n",
    "y_pred2 = clf2.predict(X_test)\n",
    "y_pred3 = clf3.predict(X_test)"
   ]
  },
  {
   "cell_type": "code",
   "execution_count": 42,
   "id": "b2926937",
   "metadata": {
    "execution": {
     "iopub.execute_input": "2022-11-09T16:27:06.729354Z",
     "iopub.status.busy": "2022-11-09T16:27:06.728489Z",
     "iopub.status.idle": "2022-11-09T16:27:06.753987Z",
     "shell.execute_reply": "2022-11-09T16:27:06.753220Z"
    },
    "papermill": {
     "duration": 0.044444,
     "end_time": "2022-11-09T16:27:06.756176",
     "exception": false,
     "start_time": "2022-11-09T16:27:06.711732",
     "status": "completed"
    },
    "tags": []
   },
   "outputs": [
    {
     "name": "stdout",
     "output_type": "stream",
     "text": [
      "     -Gaussian-\n",
      "Accuracy score 0.6645\n",
      "Precision score 0.7159090909090909\n",
      "Recall score 0.5169230769230769\n",
      "F1 score 0.600357355568791\n",
      "--------------------------------------------------\n",
      "     -Multinomial-\n",
      "Accuracy score 0.8355\n",
      "Precision score 0.8302658486707567\n",
      "Recall score 0.8328205128205128\n",
      "F1 score 0.8315412186379928\n",
      "--------------------------------------------------\n",
      "     -Bernoulli-\n",
      "Accuracy score 0.8355\n",
      "Precision score 0.8289205702647657\n",
      "Recall score 0.8348717948717949\n",
      "F1 score 0.8318855390904446\n"
     ]
    }
   ],
   "source": [
    "from sklearn.metrics import accuracy_score,precision_score,recall_score,f1_score\n",
    "\n",
    "print('     -Gaussian-')\n",
    "print('Accuracy score', accuracy_score(y_test,y_pred1))\n",
    "print('Precision score', precision_score(y_test,y_pred1))\n",
    "print('Recall score', recall_score(y_test,y_pred1))\n",
    "print('F1 score', f1_score(y_test,y_pred1))\n",
    "print('-'*50)\n",
    "print('     -Multinomial-')\n",
    "print('Accuracy score', accuracy_score(y_test,y_pred2))\n",
    "print('Precision score', precision_score(y_test,y_pred2))\n",
    "print('Recall score', recall_score(y_test,y_pred2))\n",
    "print('F1 score', f1_score(y_test,y_pred2))\n",
    "print('-'*50)\n",
    "print('     -Bernoulli-')\n",
    "print('Accuracy score', accuracy_score(y_test,y_pred3))\n",
    "print('Precision score', precision_score(y_test,y_pred3))\n",
    "print('Recall score', recall_score(y_test,y_pred3))\n",
    "print('F1 score', f1_score(y_test,y_pred3))"
   ]
  },
  {
   "cell_type": "code",
   "execution_count": 43,
   "id": "87a62040",
   "metadata": {
    "execution": {
     "iopub.execute_input": "2022-11-09T16:27:06.789572Z",
     "iopub.status.busy": "2022-11-09T16:27:06.788712Z",
     "iopub.status.idle": "2022-11-09T16:27:13.782063Z",
     "shell.execute_reply": "2022-11-09T16:27:13.781275Z"
    },
    "papermill": {
     "duration": 7.012187,
     "end_time": "2022-11-09T16:27:13.784205",
     "exception": false,
     "start_time": "2022-11-09T16:27:06.772018",
     "status": "completed"
    },
    "tags": []
   },
   "outputs": [
    {
     "name": "stdout",
     "output_type": "stream",
     "text": [
      "     -Logistic Regression-\n",
      "Accuracy score 0.8575\n",
      "Precision score 0.844311377245509\n",
      "Recall score 0.8676923076923077\n",
      "F1 score 0.8558421851289834\n"
     ]
    },
    {
     "name": "stderr",
     "output_type": "stream",
     "text": [
      "/opt/conda/lib/python3.7/site-packages/sklearn/linear_model/_logistic.py:818: ConvergenceWarning: lbfgs failed to converge (status=1):\n",
      "STOP: TOTAL NO. of ITERATIONS REACHED LIMIT.\n",
      "\n",
      "Increase the number of iterations (max_iter) or scale the data as shown in:\n",
      "    https://scikit-learn.org/stable/modules/preprocessing.html\n",
      "Please also refer to the documentation for alternative solver options:\n",
      "    https://scikit-learn.org/stable/modules/linear_model.html#logistic-regression\n",
      "  extra_warning_msg=_LOGISTIC_SOLVER_CONVERGENCE_MSG,\n"
     ]
    }
   ],
   "source": [
    "# 2nd check\n",
    "from sklearn.linear_model import LogisticRegression\n",
    "lr = LogisticRegression()\n",
    "\n",
    "lr.fit(X_train, y_train)\n",
    "y_lr_pred = lr.predict(X_test)\n",
    "\n",
    "print('     -Logistic Regression-')\n",
    "print('Accuracy score', accuracy_score(y_test,y_lr_pred))\n",
    "print('Precision score', precision_score(y_test,y_lr_pred))\n",
    "print('Recall score', recall_score(y_test,y_lr_pred))\n",
    "print('F1 score', f1_score(y_test,y_lr_pred))"
   ]
  },
  {
   "cell_type": "code",
   "execution_count": 44,
   "id": "e2b27754",
   "metadata": {
    "execution": {
     "iopub.execute_input": "2022-11-09T16:27:13.840989Z",
     "iopub.status.busy": "2022-11-09T16:27:13.840606Z",
     "iopub.status.idle": "2022-11-09T16:27:34.337485Z",
     "shell.execute_reply": "2022-11-09T16:27:34.336210Z"
    },
    "papermill": {
     "duration": 20.532346,
     "end_time": "2022-11-09T16:27:34.340249",
     "exception": false,
     "start_time": "2022-11-09T16:27:13.807903",
     "status": "completed"
    },
    "tags": []
   },
   "outputs": [
    {
     "name": "stdout",
     "output_type": "stream",
     "text": [
      "     -Decision Tree Classifier-\n",
      "Accuracy score 0.704\n",
      "Precision score 0.6972193614830072\n",
      "Recall score 0.6943589743589743\n",
      "F1 score 0.6957862281603289\n"
     ]
    }
   ],
   "source": [
    "# 3rd check\n",
    "from sklearn.tree import DecisionTreeClassifier\n",
    "dt = DecisionTreeClassifier()\n",
    "\n",
    "dt.fit(X_train, y_train)\n",
    "y_dt_pred = dt.predict(X_test)\n",
    "\n",
    "print('     -Decision Tree Classifier-')\n",
    "print('Accuracy score', accuracy_score(y_test,y_dt_pred))\n",
    "print('Precision score', precision_score(y_test,y_dt_pred))\n",
    "print('Recall score', recall_score(y_test,y_dt_pred))\n",
    "print('F1 score', f1_score(y_test,y_dt_pred))"
   ]
  },
  {
   "cell_type": "code",
   "execution_count": 45,
   "id": "a3dc79fb",
   "metadata": {
    "execution": {
     "iopub.execute_input": "2022-11-09T16:27:34.366980Z",
     "iopub.status.busy": "2022-11-09T16:27:34.366580Z",
     "iopub.status.idle": "2022-11-09T16:27:38.476004Z",
     "shell.execute_reply": "2022-11-09T16:27:38.473956Z"
    },
    "papermill": {
     "duration": 4.125477,
     "end_time": "2022-11-09T16:27:38.478390",
     "exception": false,
     "start_time": "2022-11-09T16:27:34.352913",
     "status": "completed"
    },
    "tags": []
   },
   "outputs": [
    {
     "name": "stdout",
     "output_type": "stream",
     "text": [
      "     -KNeighbors Classifier-\n",
      "Accuracy score 0.6145\n",
      "Precision score 0.6156462585034014\n",
      "Recall score 0.556923076923077\n",
      "F1 score 0.5848142164781907\n"
     ]
    }
   ],
   "source": [
    "# 4th check\n",
    "from sklearn.neighbors import KNeighborsClassifier\n",
    "knn = KNeighborsClassifier()\n",
    "\n",
    "knn.fit(X_train, y_train)\n",
    "knn_pred = knn.predict(X_test)\n",
    "\n",
    "print('     -KNeighbors Classifier-')\n",
    "print('Accuracy score', accuracy_score(y_test,knn_pred))\n",
    "print('Precision score', precision_score(y_test,knn_pred))\n",
    "print('Recall score', recall_score(y_test,knn_pred))\n",
    "print('F1 score', f1_score(y_test,knn_pred))"
   ]
  }
 ],
 "metadata": {
  "kernelspec": {
   "display_name": "Python 3",
   "language": "python",
   "name": "python3"
  },
  "language_info": {
   "codemirror_mode": {
    "name": "ipython",
    "version": 3
   },
   "file_extension": ".py",
   "mimetype": "text/x-python",
   "name": "python",
   "nbconvert_exporter": "python",
   "pygments_lexer": "ipython3",
   "version": "3.7.12"
  },
  "papermill": {
   "default_parameters": {},
   "duration": 322.380434,
   "end_time": "2022-11-09T16:27:39.315090",
   "environment_variables": {},
   "exception": null,
   "input_path": "__notebook__.ipynb",
   "output_path": "__notebook__.ipynb",
   "parameters": {},
   "start_time": "2022-11-09T16:22:16.934656",
   "version": "2.3.4"
  }
 },
 "nbformat": 4,
 "nbformat_minor": 5
}
